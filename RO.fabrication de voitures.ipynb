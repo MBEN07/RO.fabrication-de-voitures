{
 "cells": [
  {
   "cell_type": "markdown",
   "id": "91b51f83",
   "metadata": {},
   "source": [
    "# Optimisation de la production d’une usine de fabrication de voitures"
   ]
  },
  {
   "cell_type": "markdown",
   "id": "1deaac9c",
   "metadata": {},
   "source": [
    "#### Importer le module pywraplp d'OR-Tools :"
   ]
  },
  {
   "cell_type": "code",
   "execution_count": 1,
   "id": "93fddbba",
   "metadata": {},
   "outputs": [],
   "source": [
    "from ortools.linear_solver import pywraplp"
   ]
  },
  {
   "cell_type": "markdown",
   "id": "8019e1cf",
   "metadata": {},
   "source": [
    "#### Créer une instance du solveur linéaire :"
   ]
  },
  {
   "cell_type": "code",
   "execution_count": 2,
   "id": "b9b64c71",
   "metadata": {},
   "outputs": [],
   "source": [
    "solver = pywraplp.Solver.CreateSolver('SCIP')"
   ]
  },
  {
   "cell_type": "markdown",
   "id": "07aa7f4d",
   "metadata": {},
   "source": [
    "#### Définir les variables de décision :"
   ]
  },
  {
   "cell_type": "code",
   "execution_count": 3,
   "id": "161a1620",
   "metadata": {},
   "outputs": [],
   "source": [
    "x1 = solver.IntVar(0, solver.infinity(), 'x1')  # Nombre de voitures économiques\n",
    "x2 = solver.IntVar(0, solver.infinity(), 'x2')  # Nombre de voitures sport"
   ]
  },
  {
   "cell_type": "markdown",
   "id": "4664d8e1",
   "metadata": {},
   "source": [
    "#### Définir la fonction objectif à maximiser :"
   ]
  },
  {
   "cell_type": "code",
   "execution_count": 4,
   "id": "e7cb9252",
   "metadata": {},
   "outputs": [],
   "source": [
    "objective = 22410 * x1 + 33230 * x2\n",
    "solver.Maximize(objective)"
   ]
  },
  {
   "cell_type": "markdown",
   "id": "3c8d5934",
   "metadata": {},
   "source": [
    "#### Ajouter les contraintes au solveur :"
   ]
  },
  {
   "cell_type": "code",
   "execution_count": 5,
   "id": "47760ed5",
   "metadata": {},
   "outputs": [],
   "source": [
    "constraint1 = solver.Constraint(0, 1500)\n",
    "constraint1.SetCoefficient(x1, 3.5)\n",
    "constraint1.SetCoefficient(x2, 4)\n",
    "\n",
    "constraint2 = solver.Constraint(0, 2000)\n",
    "constraint2.SetCoefficient(x1, 2)\n",
    "constraint2.SetCoefficient(x2, 3)\n",
    "\n",
    "constraint3 = solver.Constraint(120, solver.infinity())\n",
    "constraint3.SetCoefficient(x1, 1)"
   ]
  },
  {
   "cell_type": "markdown",
   "id": "422dae09",
   "metadata": {},
   "source": [
    "#### Résolver le problème en appelant la méthode Solve() du solveur :"
   ]
  },
  {
   "cell_type": "code",
   "execution_count": 6,
   "id": "406fa256",
   "metadata": {},
   "outputs": [
    {
     "data": {
      "text/plain": [
       "0"
      ]
     },
     "execution_count": 6,
     "metadata": {},
     "output_type": "execute_result"
    }
   ],
   "source": [
    "solver.Solve()"
   ]
  },
  {
   "cell_type": "markdown",
   "id": "aaa56082",
   "metadata": {},
   "source": [
    "#### Obtenir la solution optimale :"
   ]
  },
  {
   "cell_type": "code",
   "execution_count": 7,
   "id": "084ea538",
   "metadata": {},
   "outputs": [
    {
     "name": "stdout",
     "output_type": "stream",
     "text": [
      "\u001b[1m\u001b[32mSolution optimale :\u001b[0m\n",
      "\u001b[1m\u001b[32mx1 =\u001b[0m 120.0\n",
      "\u001b[1m\u001b[32mx2 =\u001b[0m 270.0\n",
      "\u001b[1m\u001b[32mProfit =\u001b[0m 11661299.999999998\n"
     ]
    }
   ],
   "source": [
    "print('\\033[1m\\033[32mSolution optimale :\\033[0m')\n",
    "print('\\033[1m\\033[32mx1 =\\033[0m', x1.solution_value())\n",
    "print('\\033[1m\\033[32mx2 =\\033[0m', x2.solution_value())\n",
    "print('\\033[1m\\033[32mProfit =\\033[0m', solver.Objective().Value())"
   ]
  },
  {
   "cell_type": "markdown",
   "id": "c831a861",
   "metadata": {},
   "source": [
    "#### Affichage des résultats optimisés du problème de production de voitures"
   ]
  },
  {
   "cell_type": "code",
   "execution_count": 8,
   "id": "d2118b66",
   "metadata": {
    "scrolled": true
   },
   "outputs": [
    {
     "data": {
      "image/png": "[encoded data removed]",
      "text/plain": [
       "<Figure size 640x480 with 1 Axes>"
      ]
     },
     "metadata": {},
     "output_type": "display_data"
    }
   ],
   "source": [
    "import matplotlib.pyplot as plt\n",
    "\n",
    "types = ['Économique', 'Sport']\n",
    "quantities = [x1.solution_value(), x2.solution_value()]\n",
    "\n",
    "plt.bar(types, quantities)\n",
    "\n",
    "plt.xlabel('Type de voiture')\n",
    "plt.ylabel('Quantité')\n",
    "plt.title('Production mensuelle des voitures')\n",
    "\n",
    "plt.show()\n"
   ]
  }
 ],
 "metadata": {
  "kernelspec": {
   "display_name": "Python 3 (ipykernel)",
   "language": "python",
   "name": "python3"
  },
  "language_info": {
   "codemirror_mode": {
    "name": "ipython",
    "version": 3
   },
   "file_extension": ".py",
   "mimetype": "text/x-python",
   "name": "python",
   "nbconvert_exporter": "python",
   "pygments_lexer": "ipython3",
   "version": "3.9.7"
  }
 },
 "nbformat": 4,
 "nbformat_minor": 5
}
